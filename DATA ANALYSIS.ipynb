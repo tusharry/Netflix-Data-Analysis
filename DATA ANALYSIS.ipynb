{
 "cells": [
  {
   "cell_type": "code",
   "execution_count": 1,
   "metadata": {},
   "outputs": [],
   "source": [
    "import numpy as np\n",
    "import pandas as pd\n",
    "import matplotlib.pyplot as plt\n",
    "%matplotlib inline"
   ]
  },
  {
   "cell_type": "code",
   "execution_count": 2,
   "metadata": {},
   "outputs": [
    {
     "data": {
      "text/html": [
       "<div>\n",
       "<style scoped>\n",
       "    .dataframe tbody tr th:only-of-type {\n",
       "        vertical-align: middle;\n",
       "    }\n",
       "\n",
       "    .dataframe tbody tr th {\n",
       "        vertical-align: top;\n",
       "    }\n",
       "\n",
       "    .dataframe thead th {\n",
       "        text-align: right;\n",
       "    }\n",
       "</style>\n",
       "<table border=\"1\" class=\"dataframe\">\n",
       "  <thead>\n",
       "    <tr style=\"text-align: right;\">\n",
       "      <th></th>\n",
       "      <th>Unnamed: 0</th>\n",
       "      <th>title</th>\n",
       "      <th>rating</th>\n",
       "      <th>ratingDescription</th>\n",
       "      <th>ratingLevel</th>\n",
       "      <th>release year</th>\n",
       "      <th>user rating score</th>\n",
       "      <th>user rating size</th>\n",
       "      <th>Genre</th>\n",
       "      <th>Age Restriction</th>\n",
       "    </tr>\n",
       "  </thead>\n",
       "  <tbody>\n",
       "    <tr>\n",
       "      <th>0</th>\n",
       "      <td>0</td>\n",
       "      <td>White Chicks</td>\n",
       "      <td>PG-13</td>\n",
       "      <td>crude and sexual humor, language and some drug...</td>\n",
       "      <td>80</td>\n",
       "      <td>2004</td>\n",
       "      <td>82.0</td>\n",
       "      <td>80</td>\n",
       "      <td>comedy</td>\n",
       "      <td>NaN</td>\n",
       "    </tr>\n",
       "    <tr>\n",
       "      <th>1</th>\n",
       "      <td>1</td>\n",
       "      <td>Lucky Number Slevin</td>\n",
       "      <td>R</td>\n",
       "      <td>strong violence, sexual content and adult lang...</td>\n",
       "      <td>100</td>\n",
       "      <td>2006</td>\n",
       "      <td>NaN</td>\n",
       "      <td>82</td>\n",
       "      <td>mystery,thriller,crime,drama</td>\n",
       "      <td>NaN</td>\n",
       "    </tr>\n",
       "    <tr>\n",
       "      <th>2</th>\n",
       "      <td>2</td>\n",
       "      <td>Grey's Anatomy</td>\n",
       "      <td>TV-14</td>\n",
       "      <td>Parents strongly cautioned. May be unsuitable ...</td>\n",
       "      <td>90</td>\n",
       "      <td>2016</td>\n",
       "      <td>98.0</td>\n",
       "      <td>80</td>\n",
       "      <td>Medical drama, Romantic drama, Comedy-drama, E...</td>\n",
       "      <td>14+</td>\n",
       "    </tr>\n",
       "    <tr>\n",
       "      <th>3</th>\n",
       "      <td>3</td>\n",
       "      <td>Prison Break</td>\n",
       "      <td>TV-14</td>\n",
       "      <td>Parents strongly cautioned. May be unsuitable ...</td>\n",
       "      <td>90</td>\n",
       "      <td>2008</td>\n",
       "      <td>98.0</td>\n",
       "      <td>80</td>\n",
       "      <td>Serial dramaCrime dramaAction thriller</td>\n",
       "      <td>14+</td>\n",
       "    </tr>\n",
       "    <tr>\n",
       "      <th>4</th>\n",
       "      <td>4</td>\n",
       "      <td>How I Met Your Mother</td>\n",
       "      <td>TV-PG</td>\n",
       "      <td>Parental guidance suggested. May not be suitab...</td>\n",
       "      <td>70</td>\n",
       "      <td>2014</td>\n",
       "      <td>94.0</td>\n",
       "      <td>80</td>\n",
       "      <td>Sitcom, Romantic comedy</td>\n",
       "      <td>NaN</td>\n",
       "    </tr>\n",
       "  </tbody>\n",
       "</table>\n",
       "</div>"
      ],
      "text/plain": [
       "   Unnamed: 0                  title rating  \\\n",
       "0           0           White Chicks  PG-13   \n",
       "1           1    Lucky Number Slevin      R   \n",
       "2           2         Grey's Anatomy  TV-14   \n",
       "3           3           Prison Break  TV-14   \n",
       "4           4  How I Met Your Mother  TV-PG   \n",
       "\n",
       "                                   ratingDescription  ratingLevel  \\\n",
       "0  crude and sexual humor, language and some drug...           80   \n",
       "1  strong violence, sexual content and adult lang...          100   \n",
       "2  Parents strongly cautioned. May be unsuitable ...           90   \n",
       "3  Parents strongly cautioned. May be unsuitable ...           90   \n",
       "4  Parental guidance suggested. May not be suitab...           70   \n",
       "\n",
       "   release year  user rating score  user rating size  \\\n",
       "0          2004               82.0                80   \n",
       "1          2006                NaN                82   \n",
       "2          2016               98.0                80   \n",
       "3          2008               98.0                80   \n",
       "4          2014               94.0                80   \n",
       "\n",
       "                                               Genre Age Restriction  \n",
       "0                                             comedy             NaN  \n",
       "1                       mystery,thriller,crime,drama             NaN  \n",
       "2  Medical drama, Romantic drama, Comedy-drama, E...             14+  \n",
       "3             Serial dramaCrime dramaAction thriller             14+  \n",
       "4                            Sitcom, Romantic comedy             NaN  "
      ]
     },
     "execution_count": 2,
     "metadata": {},
     "output_type": "execute_result"
    }
   ],
   "source": [
    "netflix = pd.read_csv('500_Netflix_Shows.csv')\n",
    "netflix.head()"
   ]
  },
  {
   "cell_type": "code",
   "execution_count": 3,
   "metadata": {},
   "outputs": [
    {
     "data": {
      "text/plain": [
       "Index(['Parents strongly cautioned. May be unsuitable for children ages 14 and under.',\n",
       "       'For mature audiences.  May not be suitable for children 17 and under.',\n",
       "       'Suitable for all ages.', 'General Audiences. Suitable for all ages.',\n",
       "       'Parental guidance suggested. May not be suitable for all children.',\n",
       "       'Suitable for children ages 7 and older.  Content contains fantasy violence.',\n",
       "       'Suitable for children ages 7 and older',\n",
       "       'Parental guidance suggested. May not be suitable for children.',\n",
       "       'This movie has not been rated.', 'mild thematic elements',\n",
       "       'for thematic material and language',\n",
       "       'some thematic elements, rude humor and action',\n",
       "       'language, some comic violence and mild sex-related humor',\n",
       "       'strong violence and language throughout',\n",
       "       'for action and some rude humor', 'some rude humor and sports action',\n",
       "       'martial arts action and some mild rude humor',\n",
       "       'thematic elements, scary images, action and peril', 'some peril',\n",
       "       'action violence, language and rude humor',\n",
       "       'mild language and comic action', 'animal action and humor',\n",
       "       'brief mild language and some rude behavior',\n",
       "       'some violent content and mature thematic elements',\n",
       "       'some scary images and action, and brief mild language',\n",
       "       'language and some sexual humor', 'action violence',\n",
       "       'some mild, rude humor', 'strong sexual content and language',\n",
       "       'pervasive language, some sexual material, violence and drug use',\n",
       "       'for action/peril, some scary moments and brief rude humor',\n",
       "       'language and brief violence',\n",
       "       'thematic elements, scary images, some language and suggestive humor',\n",
       "       'some scary action, rude humor and language', 'mild sci-fi action',\n",
       "       'adult content, adult language and mild violence',\n",
       "       'adult content and mld violence',\n",
       "       'intense scenes dealing with strong content',\n",
       "       'mild language and action sequences',\n",
       "       'action violence throughout, some scary images, and language',\n",
       "       'crude and sexual humor, language and some drug content',\n",
       "       'language, some drug use, violence and partial nudity',\n",
       "       'thematic elements, an accident scene and some suggestive material',\n",
       "       'some rude humor, language and some scary action',\n",
       "       'pervasive sexual content, brief graphic nudity, language and some drug use',\n",
       "       'mild thematic material and language',\n",
       "       'mild action and some rude humor',\n",
       "       'bloody war violence, language throughout and some sexual material',\n",
       "       'scary and intense creature action and images, and for some rude humor',\n",
       "       'for action, peril and brief language', 'fantasy action',\n",
       "       'some reckless behavior',\n",
       "       'scary images, suggestive material, some language and smoking',\n",
       "       'fantasy action and mild language',\n",
       "       'dialogue, language, sexual situations and violence',\n",
       "       'some action violence involving gunplay, and mild rude humor',\n",
       "       'animated action violence, some scary cartoon images and mild language',\n",
       "       'Restricted. May be inappropriate for children 17 and under.',\n",
       "       'some mild thematic elements',\n",
       "       'language, drug content, sexuality/nudity, and some violence-all involving teens',\n",
       "       'action and some rude humor',\n",
       "       'violence and menacing action, rude humor, suggestive content and thematic elements',\n",
       "       'fantasy action/peril and some language', 'action sequences and peril',\n",
       "       'For some rude and suggestive material, and for language.',\n",
       "       'This movie has not been rated. Intended for adults only and may contain sex, violence, drugs, language or other adult themes.',\n",
       "       'crude and suggestive humor, and for language',\n",
       "       'thematic elements, brief violence and innuendo',\n",
       "       'some sexual material', 'some sexual material, and language throughout',\n",
       "       'some scary images', 'rude humor and some action', 'some scary moments',\n",
       "       'some rude language and pranks',\n",
       "       'thematic material involving threatening behavior, and for violence and sexuality',\n",
       "       'pervasive drug content and language, some violence and sexuality',\n",
       "       'action and rude humor', 'moderate adult language and intense action',\n",
       "       'rude and suggestive humor, and some action',\n",
       "       'language and some crude sexual humor',\n",
       "       'strong violence, sexual content and adult language',\n",
       "       'some scary images, action and rude humor',\n",
       "       'some violence and one sexual scene',\n",
       "       'sci-fi action violence throughout, brief language and momentary smoking',\n",
       "       'action and violence throughout, and mild language',\n",
       "       'sequences of martial arts action',\n",
       "       'for some sequences of scary action and peril',\n",
       "       'Parents strongly cautioned. May be inappropriate for children under 13.',\n",
       "       'some rude dialogue', 'some mild action', 'mild suggestive humor',\n",
       "       'some rude humor', 'for rude humor and action',\n",
       "       'strong crude sexual content, pervasive language, and drug use',\n",
       "       'some scary images, perilous action sequences and mild rude humor',\n",
       "       'slapstick action and mild language',\n",
       "       'some mild language and rough hockey action',\n",
       "       'mild action and rude humor', 'some sex-related material'],\n",
       "      dtype='object')"
      ]
     },
     "execution_count": 3,
     "metadata": {},
     "output_type": "execute_result"
    }
   ],
   "source": [
    "netflix['ratingDescription'].value_counts().keys()"
   ]
  },
  {
   "cell_type": "code",
   "execution_count": 4,
   "metadata": {},
   "outputs": [
    {
     "data": {
      "text/plain": [
       "Parents strongly cautioned. May be unsuitable for children ages 14 and under.    105\n",
       "For mature audiences.  May not be suitable for children 17 and under.             82\n",
       "Suitable for all ages.                                                            65\n",
       "General Audiences. Suitable for all ages.                                         53\n",
       "Parental guidance suggested. May not be suitable for all children.                33\n",
       "Suitable for children ages 7 and older.  Content contains fantasy violence.       25\n",
       "Suitable for children ages 7 and older                                            23\n",
       "Parental guidance suggested. May not be suitable for children.                    12\n",
       "This movie has not been rated.                                                    10\n",
       "mild thematic elements                                                             3\n",
       "Name: ratingDescription, dtype: int64"
      ]
     },
     "execution_count": 4,
     "metadata": {},
     "output_type": "execute_result"
    }
   ],
   "source": [
    "netflix['ratingDescription'].value_counts()[0:10]"
   ]
  },
  {
   "cell_type": "code",
   "execution_count": 5,
   "metadata": {},
   "outputs": [
    {
     "data": {
      "text/plain": [
       "Int64Index([2016, 2015, 2017, 2014, 2013, 2012, 2011, 2010, 2003, 2008, 2009,\n",
       "            2006, 2005, 1997, 1998, 2007, 2004, 2000, 2001, 1999, 1993, 2002,\n",
       "            1994, 1982, 1995, 1990, 1989, 1987, 1978, 1986, 1992, 1991, 1996,\n",
       "            1976, 1940],\n",
       "           dtype='int64')"
      ]
     },
     "execution_count": 5,
     "metadata": {},
     "output_type": "execute_result"
    }
   ],
   "source": [
    "netflix['release year'].value_counts().keys()"
   ]
  },
  {
   "cell_type": "code",
   "execution_count": 6,
   "metadata": {},
   "outputs": [
    {
     "data": {
      "text/plain": [
       "2016    146\n",
       "2015     61\n",
       "2017     37\n",
       "2014     35\n",
       "2013     33\n",
       "2012     27\n",
       "2011     15\n",
       "2010     13\n",
       "2003     11\n",
       "2008     11\n",
       "2009     10\n",
       "2006     10\n",
       "2005     10\n",
       "1997      9\n",
       "1998      9\n",
       "2007      8\n",
       "2004      7\n",
       "2000      7\n",
       "2001      6\n",
       "1999      5\n",
       "1993      5\n",
       "2002      5\n",
       "1994      4\n",
       "1982      2\n",
       "1995      2\n",
       "1990      2\n",
       "1989      2\n",
       "1987      1\n",
       "1978      1\n",
       "1986      1\n",
       "1992      1\n",
       "1991      1\n",
       "1996      1\n",
       "1976      1\n",
       "1940      1\n",
       "Name: release year, dtype: int64"
      ]
     },
     "execution_count": 6,
     "metadata": {},
     "output_type": "execute_result"
    }
   ],
   "source": [
    "netflix['release year'].value_counts()"
   ]
  },
  {
   "cell_type": "code",
   "execution_count": 7,
   "metadata": {},
   "outputs": [
    {
     "data": {
      "image/png": "[encoded data removed]",
      "text/plain": [
       "<Figure size 720x720 with 1 Axes>"
      ]
     },
     "metadata": {
      "needs_background": "light"
     },
     "output_type": "display_data"
    }
   ],
   "source": [
    "plt.figure(figsize = (10, 10))\n",
    "plt.bar(list(netflix['release year'].value_counts().keys()[0:10]), list(netflix['release year'].value_counts()[0:10]), color = 'red')\n",
    "plt.xlabel('Year')\n",
    "plt.ylabel('Numbers of shows')\n",
    "plt.title('Shows on NETFLIX')\n",
    "plt.show()"
   ]
  },
  {
   "cell_type": "code",
   "execution_count": 8,
   "metadata": {},
   "outputs": [
    {
     "data": {
      "text/plain": [
       "(500, 10)"
      ]
     },
     "execution_count": 8,
     "metadata": {},
     "output_type": "execute_result"
    }
   ],
   "source": [
    "netflix.shape"
   ]
  },
  {
   "cell_type": "code",
   "execution_count": 9,
   "metadata": {},
   "outputs": [
    {
     "data": {
      "text/html": [
       "<div>\n",
       "<style scoped>\n",
       "    .dataframe tbody tr th:only-of-type {\n",
       "        vertical-align: middle;\n",
       "    }\n",
       "\n",
       "    .dataframe tbody tr th {\n",
       "        vertical-align: top;\n",
       "    }\n",
       "\n",
       "    .dataframe thead th {\n",
       "        text-align: right;\n",
       "    }\n",
       "</style>\n",
       "<table border=\"1\" class=\"dataframe\">\n",
       "  <thead>\n",
       "    <tr style=\"text-align: right;\">\n",
       "      <th></th>\n",
       "      <th>Unnamed: 0</th>\n",
       "      <th>title</th>\n",
       "      <th>rating</th>\n",
       "      <th>ratingDescription</th>\n",
       "      <th>ratingLevel</th>\n",
       "      <th>release year</th>\n",
       "      <th>user rating score</th>\n",
       "      <th>user rating size</th>\n",
       "      <th>Genre</th>\n",
       "      <th>Age Restriction</th>\n",
       "    </tr>\n",
       "  </thead>\n",
       "  <tbody>\n",
       "    <tr>\n",
       "      <th>0</th>\n",
       "      <td>0</td>\n",
       "      <td>White Chicks</td>\n",
       "      <td>PG-13</td>\n",
       "      <td>crude and sexual humor, language and some drug...</td>\n",
       "      <td>80</td>\n",
       "      <td>2004</td>\n",
       "      <td>82.0</td>\n",
       "      <td>80</td>\n",
       "      <td>comedy</td>\n",
       "      <td>NaN</td>\n",
       "    </tr>\n",
       "    <tr>\n",
       "      <th>1</th>\n",
       "      <td>1</td>\n",
       "      <td>Lucky Number Slevin</td>\n",
       "      <td>R</td>\n",
       "      <td>strong violence, sexual content and adult lang...</td>\n",
       "      <td>100</td>\n",
       "      <td>2006</td>\n",
       "      <td>NaN</td>\n",
       "      <td>82</td>\n",
       "      <td>mystery,thriller,crime,drama</td>\n",
       "      <td>NaN</td>\n",
       "    </tr>\n",
       "    <tr>\n",
       "      <th>2</th>\n",
       "      <td>2</td>\n",
       "      <td>Grey's Anatomy</td>\n",
       "      <td>TV-14</td>\n",
       "      <td>Parents strongly cautioned. May be unsuitable ...</td>\n",
       "      <td>90</td>\n",
       "      <td>2016</td>\n",
       "      <td>98.0</td>\n",
       "      <td>80</td>\n",
       "      <td>Medical drama, Romantic drama, Comedy-drama, E...</td>\n",
       "      <td>14+</td>\n",
       "    </tr>\n",
       "    <tr>\n",
       "      <th>3</th>\n",
       "      <td>3</td>\n",
       "      <td>Prison Break</td>\n",
       "      <td>TV-14</td>\n",
       "      <td>Parents strongly cautioned. May be unsuitable ...</td>\n",
       "      <td>90</td>\n",
       "      <td>2008</td>\n",
       "      <td>98.0</td>\n",
       "      <td>80</td>\n",
       "      <td>Serial dramaCrime dramaAction thriller</td>\n",
       "      <td>14+</td>\n",
       "    </tr>\n",
       "    <tr>\n",
       "      <th>4</th>\n",
       "      <td>4</td>\n",
       "      <td>How I Met Your Mother</td>\n",
       "      <td>TV-PG</td>\n",
       "      <td>Parental guidance suggested. May not be suitab...</td>\n",
       "      <td>70</td>\n",
       "      <td>2014</td>\n",
       "      <td>94.0</td>\n",
       "      <td>80</td>\n",
       "      <td>Sitcom, Romantic comedy</td>\n",
       "      <td>NaN</td>\n",
       "    </tr>\n",
       "    <tr>\n",
       "      <th>...</th>\n",
       "      <td>...</td>\n",
       "      <td>...</td>\n",
       "      <td>...</td>\n",
       "      <td>...</td>\n",
       "      <td>...</td>\n",
       "      <td>...</td>\n",
       "      <td>...</td>\n",
       "      <td>...</td>\n",
       "      <td>...</td>\n",
       "      <td>...</td>\n",
       "    </tr>\n",
       "    <tr>\n",
       "      <th>495</th>\n",
       "      <td>495</td>\n",
       "      <td>Russell Madness</td>\n",
       "      <td>PG</td>\n",
       "      <td>some rude humor and sports action</td>\n",
       "      <td>60</td>\n",
       "      <td>2015</td>\n",
       "      <td>NaN</td>\n",
       "      <td>82</td>\n",
       "      <td>kids,family,adventure,comedy</td>\n",
       "      <td>NaN</td>\n",
       "    </tr>\n",
       "    <tr>\n",
       "      <th>496</th>\n",
       "      <td>496</td>\n",
       "      <td>Wiener Dog Internationals</td>\n",
       "      <td>G</td>\n",
       "      <td>General Audiences. Suitable for all ages.</td>\n",
       "      <td>35</td>\n",
       "      <td>2015</td>\n",
       "      <td>NaN</td>\n",
       "      <td>82</td>\n",
       "      <td>kids,family,adventure</td>\n",
       "      <td>No Restriction</td>\n",
       "    </tr>\n",
       "    <tr>\n",
       "      <th>497</th>\n",
       "      <td>497</td>\n",
       "      <td>Pup Star</td>\n",
       "      <td>G</td>\n",
       "      <td>General Audiences. Suitable for all ages.</td>\n",
       "      <td>35</td>\n",
       "      <td>2016</td>\n",
       "      <td>NaN</td>\n",
       "      <td>82</td>\n",
       "      <td>NaN</td>\n",
       "      <td>No Restriction</td>\n",
       "    </tr>\n",
       "    <tr>\n",
       "      <th>498</th>\n",
       "      <td>498</td>\n",
       "      <td>Precious Puppies</td>\n",
       "      <td>TV-G</td>\n",
       "      <td>Suitable for all ages.</td>\n",
       "      <td>35</td>\n",
       "      <td>2003</td>\n",
       "      <td>NaN</td>\n",
       "      <td>82</td>\n",
       "      <td>NaN</td>\n",
       "      <td>No Restriction</td>\n",
       "    </tr>\n",
       "    <tr>\n",
       "      <th>499</th>\n",
       "      <td>499</td>\n",
       "      <td>Beary Tales</td>\n",
       "      <td>TV-G</td>\n",
       "      <td>Suitable for all ages.</td>\n",
       "      <td>35</td>\n",
       "      <td>2013</td>\n",
       "      <td>NaN</td>\n",
       "      <td>82</td>\n",
       "      <td>NaN</td>\n",
       "      <td>No Restriction</td>\n",
       "    </tr>\n",
       "  </tbody>\n",
       "</table>\n",
       "<p>500 rows × 10 columns</p>\n",
       "</div>"
      ],
      "text/plain": [
       "     Unnamed: 0                      title rating  \\\n",
       "0             0               White Chicks  PG-13   \n",
       "1             1        Lucky Number Slevin      R   \n",
       "2             2             Grey's Anatomy  TV-14   \n",
       "3             3               Prison Break  TV-14   \n",
       "4             4      How I Met Your Mother  TV-PG   \n",
       "..          ...                        ...    ...   \n",
       "495         495            Russell Madness     PG   \n",
       "496         496  Wiener Dog Internationals      G   \n",
       "497         497                   Pup Star      G   \n",
       "498         498           Precious Puppies   TV-G   \n",
       "499         499                Beary Tales   TV-G   \n",
       "\n",
       "                                     ratingDescription  ratingLevel  \\\n",
       "0    crude and sexual humor, language and some drug...           80   \n",
       "1    strong violence, sexual content and adult lang...          100   \n",
       "2    Parents strongly cautioned. May be unsuitable ...           90   \n",
       "3    Parents strongly cautioned. May be unsuitable ...           90   \n",
       "4    Parental guidance suggested. May not be suitab...           70   \n",
       "..                                                 ...          ...   \n",
       "495                  some rude humor and sports action           60   \n",
       "496          General Audiences. Suitable for all ages.           35   \n",
       "497          General Audiences. Suitable for all ages.           35   \n",
       "498                             Suitable for all ages.           35   \n",
       "499                             Suitable for all ages.           35   \n",
       "\n",
       "     release year  user rating score  user rating size  \\\n",
       "0            2004               82.0                80   \n",
       "1            2006                NaN                82   \n",
       "2            2016               98.0                80   \n",
       "3            2008               98.0                80   \n",
       "4            2014               94.0                80   \n",
       "..            ...                ...               ...   \n",
       "495          2015                NaN                82   \n",
       "496          2015                NaN                82   \n",
       "497          2016                NaN                82   \n",
       "498          2003                NaN                82   \n",
       "499          2013                NaN                82   \n",
       "\n",
       "                                                 Genre Age Restriction  \n",
       "0                                               comedy             NaN  \n",
       "1                         mystery,thriller,crime,drama             NaN  \n",
       "2    Medical drama, Romantic drama, Comedy-drama, E...             14+  \n",
       "3               Serial dramaCrime dramaAction thriller             14+  \n",
       "4                              Sitcom, Romantic comedy             NaN  \n",
       "..                                                 ...             ...  \n",
       "495                       kids,family,adventure,comedy             NaN  \n",
       "496                              kids,family,adventure  No Restriction  \n",
       "497                                                NaN  No Restriction  \n",
       "498                                                NaN  No Restriction  \n",
       "499                                                NaN  No Restriction  \n",
       "\n",
       "[500 rows x 10 columns]"
      ]
     },
     "execution_count": 9,
     "metadata": {},
     "output_type": "execute_result"
    }
   ],
   "source": [
    "netflix"
   ]
  },
  {
   "cell_type": "code",
   "execution_count": 10,
   "metadata": {},
   "outputs": [
    {
     "data": {
      "text/plain": [
       "Index(['TV-14', 'TV-MA', 'PG', 'G', 'TV-Y', 'TV-PG', 'TV-G', 'TV-Y7-FV',\n",
       "       'TV-Y7', 'R', 'PG-13', 'NR', 'UR'],\n",
       "      dtype='object')"
      ]
     },
     "execution_count": 10,
     "metadata": {},
     "output_type": "execute_result"
    }
   ],
   "source": [
    "netflix['rating'].value_counts().keys()"
   ]
  },
  {
   "cell_type": "code",
   "execution_count": 11,
   "metadata": {},
   "outputs": [
    {
     "data": {
      "text/plain": [
       "TV-14       106\n",
       "TV-MA        82\n",
       "PG           76\n",
       "G            53\n",
       "TV-Y         36\n",
       "TV-PG        33\n",
       "TV-G         29\n",
       "TV-Y7-FV     25\n",
       "TV-Y7        23\n",
       "R            14\n",
       "PG-13        12\n",
       "NR           10\n",
       "UR            1\n",
       "Name: rating, dtype: int64"
      ]
     },
     "execution_count": 11,
     "metadata": {},
     "output_type": "execute_result"
    }
   ],
   "source": [
    "netflix['rating'].value_counts()"
   ]
  },
  {
   "cell_type": "code",
   "execution_count": 12,
   "metadata": {},
   "outputs": [
    {
     "data": {
      "image/png": "[encoded data removed]",
      "text/plain": [
       "<Figure size 720x720 with 1 Axes>"
      ]
     },
     "metadata": {
      "needs_background": "light"
     },
     "output_type": "display_data"
    }
   ],
   "source": [
    "plt.figure(figsize = (10, 10))\n",
    "plt.bar(list(netflix['rating'].value_counts().keys()[0:10]), list(netflix['rating'].value_counts()[0:10]))\n",
    "plt.xlabel('CATEGORIES')\n",
    "plt.ylabel('Numbers of shows')\n",
    "plt.show()"
   ]
  },
  {
   "cell_type": "code",
   "execution_count": 13,
   "metadata": {},
   "outputs": [
    {
     "data": {
      "text/plain": [
       "Sitcom                                    16\n",
       "kids,family,animation,adventure,comedy     9\n",
       "Comedy                                     9\n",
       "drama                                      9\n",
       "comedy                                     8\n",
       "Name: Genre, dtype: int64"
      ]
     },
     "execution_count": 13,
     "metadata": {},
     "output_type": "execute_result"
    }
   ],
   "source": [
    "netflix['Genre'].value_counts()[0:5]"
   ]
  },
  {
   "cell_type": "code",
   "execution_count": 31,
   "metadata": {},
   "outputs": [
    {
     "data": {
      "image/png": "[encoded data removed]",
      "text/plain": [
       "<Figure size 720x720 with 1 Axes>"
      ]
     },
     "metadata": {},
     "output_type": "display_data"
    }
   ],
   "source": [
    "plt.figure(figsize = (10, 10))\n",
    "plt.pie(list(netflix['Genre'].value_counts()[0:5]), labels = list(netflix['Genre'].value_counts().keys()[0:5]), autopct = '%0.1f%%')\n",
    "plt.show()"
   ]
  },
  {
   "cell_type": "code",
   "execution_count": 15,
   "metadata": {},
   "outputs": [
    {
     "data": {
      "text/plain": [
       "No Restriction    118\n",
       "14+               105\n",
       "17+                83\n",
       "7+                 48\n",
       "13+                 1\n",
       "Name: Age Restriction, dtype: int64"
      ]
     },
     "execution_count": 15,
     "metadata": {},
     "output_type": "execute_result"
    }
   ],
   "source": [
    "netflix['Age Restriction'].value_counts()"
   ]
  },
  {
   "cell_type": "code",
   "execution_count": 17,
   "metadata": {},
   "outputs": [
    {
     "data": {
      "text/plain": [
       "(500, 10)"
      ]
     },
     "execution_count": 17,
     "metadata": {},
     "output_type": "execute_result"
    }
   ],
   "source": [
    "netflix.shape"
   ]
  },
  {
   "cell_type": "code",
   "execution_count": 27,
   "metadata": {},
   "outputs": [
    {
     "data": {
      "text/plain": [
       "(0.236, 0.21)"
      ]
     },
     "execution_count": 27,
     "metadata": {},
     "output_type": "execute_result"
    }
   ],
   "source": [
    "118/500, 105/500"
   ]
  },
  {
   "cell_type": "code",
   "execution_count": 33,
   "metadata": {},
   "outputs": [
    {
     "data": {
      "image/png": "[encoded data removed]",
      "text/plain": [
       "<Figure size 720x720 with 1 Axes>"
      ]
     },
     "metadata": {
      "needs_background": "light"
     },
     "output_type": "display_data"
    }
   ],
   "source": [
    "plt.figure(figsize = (10, 10))\n",
    "plt.hist(netflix['user rating score'], bins = 100)\n",
    "plt.xlabel('numbers of users')\n",
    "plt.show()"
   ]
  },
  {
   "cell_type": "code",
   "execution_count": null,
   "metadata": {},
   "outputs": [],
   "source": []
  }
 ],
 "metadata": {
  "kernelspec": {
   "display_name": "Python 3",
   "language": "python",
   "name": "python3"
  },
  "language_info": {
   "codemirror_mode": {
    "name": "ipython",
    "version": 3
   },
   "file_extension": ".py",
   "mimetype": "text/x-python",
   "name": "python",
   "nbconvert_exporter": "python",
   "pygments_lexer": "ipython3",
   "version": "3.9.0"
  }
 },
 "nbformat": 4,
 "nbformat_minor": 4
}
